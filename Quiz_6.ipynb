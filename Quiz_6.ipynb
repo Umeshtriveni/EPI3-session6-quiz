{
  "nbformat": 4,
  "nbformat_minor": 0,
  "metadata": {
    "colab": {
      "name": "Quiz_6.ipynb",
      "provenance": [],
      "collapsed_sections": []
    },
    "kernelspec": {
      "name": "python3",
      "display_name": "Python 3"
    },
    "language_info": {
      "name": "python"
    }
  },
  "cells": [
    {
      "cell_type": "code",
      "metadata": {
        "colab": {
          "base_uri": "https://localhost:8080/"
        },
        "id": "6j9Pzllt2E2v",
        "outputId": "debe213f-d926-4362-ab97-785bcc6431bb"
      },
      "source": [
        "from datetime import datetime\n",
        "import random\n",
        "from datetime import timedelta\n",
        "\n",
        "min_year=1901\n",
        "max_year=2021\n",
        "\n",
        "start = datetime(min_year, 1, 1)\n",
        "years = max_year - min_year+1\n",
        "end = timedelta(days=365 * years)\n",
        "\n",
        "random_date = [(start + (end) * random.random()).strftime(\"%b, %dth, %Y\") for i in range(26)]\n",
        "print(str(random_date))\n",
        "print(datetime.now())"
      ],
      "execution_count": 1,
      "outputs": [
        {
          "output_type": "stream",
          "text": [
            "['Jun, 23th, 1934', 'Oct, 24th, 1909', 'Jun, 28th, 1968', 'Oct, 22th, 2020', 'Jun, 28th, 1907', 'Jul, 17th, 2014', 'Dec, 04th, 1925', 'Jun, 14th, 1923', 'Mar, 16th, 1947', 'Jun, 10th, 1929', 'Apr, 19th, 1992', 'Dec, 31th, 2019', 'Mar, 02th, 1902', 'May, 12th, 1982', 'Jul, 29th, 1933', 'Jul, 10th, 1949', 'Apr, 29th, 1904', 'Apr, 25th, 1988', 'Jan, 11th, 1926', 'Apr, 24th, 1912', 'Mar, 06th, 1941', 'May, 15th, 1901', 'Sep, 02th, 1968', 'Sep, 30th, 1973', 'May, 13th, 1958', 'Jul, 06th, 1943']\n",
            "2021-06-11 11:32:52.259462\n"
          ],
          "name": "stdout"
        }
      ]
    },
    {
      "cell_type": "code",
      "metadata": {
        "id": "MnrxN8PJ2HsI"
      },
      "source": [
        ""
      ],
      "execution_count": null,
      "outputs": []
    }
  ]
}